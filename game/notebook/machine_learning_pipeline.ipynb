{
  "nbformat": 4,
  "nbformat_minor": 0,
  "metadata": {
    "colab": {
      "name": "machine_learning_pipeline.ipynb",
      "provenance": [],
      "collapsed_sections": [
        "5MXlBtVhycMz"
      ],
      "toc_visible": true,
      "include_colab_link": true
    },
    "kernelspec": {
      "name": "python3",
      "display_name": "Python 3"
    },
    "accelerator": "GPU"
  },
  "cells": [
    {
      "cell_type": "markdown",
      "metadata": {
        "id": "view-in-github",
        "colab_type": "text"
      },
      "source": [
        "<a href=\"https://colab.research.google.com/github/chrisart10/DeepLearning.ai-Summary/blob/master/game/notebook/machine_learning_pipeline.ipynb\" target=\"_parent\"><img src=\"https://colab.research.google.com/assets/colab-badge.svg\" alt=\"Open In Colab\"/></a>"
      ]
    },
    {
      "cell_type": "markdown",
      "metadata": {
        "id": "Vdhraa6BmYW_"
      },
      "source": [
        "# Actualizaciones, Metas e Ideas\n",
        "\n",
        "Actualizaciones\n",
        "1.   Callback Checkpoint\n",
        "2.   Codigo mejorado\n",
        "3.   Tensorflow hub Transfer learning \n",
        "Metas\n",
        "\n",
        "\n",
        "1.   Probar otros modelos mediante transferlearning\n",
        "2.   Implementar K fold cross validation \n",
        "\n",
        "Ideas\n",
        "\n",
        "\n",
        "1.   Elemento de lista\n",
        "2.   Elemento de lista\n",
        "\n",
        "\n"
      ]
    },
    {
      "cell_type": "markdown",
      "metadata": {
        "id": "fmB4_2KkFibe"
      },
      "source": [
        "# Dashboard\n",
        "Excel\n",
        "\n",
        "[Model annotation](https://utpac-my.sharepoint.com/:x:/g/personal/christian_espinoza_utp_ac_pa/EdTa_8urnqNBnOVny2e3jKkBb82MqMWNNa2Y82hJQmINvQ?e=FiJ75A)"
      ]
    },
    {
      "cell_type": "markdown",
      "metadata": {
        "id": "9o5mDozL1gUP"
      },
      "source": [
        "# Libraries"
      ]
    },
    {
      "cell_type": "code",
      "metadata": {
        "id": "WtsVrca71fhH"
      },
      "source": [
        "import pandas as pd\n",
        "import numpy as np\n",
        "import os\n",
        "import zipfile\n",
        "from google.colab import files\n",
        "import matplotlib.pyplot as plt\n",
        "import tensorflow as tf\n",
        "from contextlib import redirect_stdout\n",
        "import tensorflow_hub as hub"
      ],
      "execution_count": 2,
      "outputs": []
    },
    {
      "cell_type": "markdown",
      "metadata": {
        "id": "LgsTOYsrfTLD"
      },
      "source": [
        "# Open dataset from colab"
      ]
    },
    {
      "cell_type": "code",
      "metadata": {
        "id": "DVACC76DIlFN"
      },
      "source": [
        "# from google.colab import drive\n",
        "# drive.mount('/content/drive')"
      ],
      "execution_count": null,
      "outputs": []
    },
    {
      "cell_type": "markdown",
      "metadata": {
        "id": "tp-ZEinrvl1Y"
      },
      "source": [
        "# Import Dataset from kaggle"
      ]
    },
    {
      "cell_type": "code",
      "metadata": {
        "id": "qycU0IzPJoBc"
      },
      "source": [
        "! pip install -q kaggle"
      ],
      "execution_count": 3,
      "outputs": []
    },
    {
      "cell_type": "code",
      "metadata": {
        "colab": {
          "resources": {
            "http://localhost:8080/nbextensions/google.colab/files.js": {
              "data": "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",
              "ok": true,
              "headers": [
                [
                  "content-type",
                  "application/javascript"
                ]
              ],
              "status": 200,
              "status_text": ""
            }
          },
          "base_uri": "https://localhost:8080/",
          "height": 109
        },
        "id": "Ss-_KSCzJrSg",
        "outputId": "bd9d94ed-8fce-48db-907b-e12d960cc0f6"
      },
      "source": [
        "#kaggle.json key\n",
        "files.upload()"
      ],
      "execution_count": 4,
      "outputs": [
        {
          "output_type": "display_data",
          "data": {
            "text/html": [
              "\n",
              "     <input type=\"file\" id=\"files-46391d5a-a776-48f1-805f-c59178f1905a\" name=\"files[]\" multiple disabled\n",
              "        style=\"border:none\" />\n",
              "     <output id=\"result-46391d5a-a776-48f1-805f-c59178f1905a\">\n",
              "      Upload widget is only available when the cell has been executed in the\n",
              "      current browser session. Please rerun this cell to enable.\n",
              "      </output>\n",
              "      <script src=\"/nbextensions/google.colab/files.js\"></script> "
            ],
            "text/plain": [
              "<IPython.core.display.HTML object>"
            ]
          },
          "metadata": {
            "tags": []
          }
        },
        {
          "output_type": "stream",
          "text": [
            "Saving kaggle.json to kaggle.json\n"
          ],
          "name": "stdout"
        },
        {
          "output_type": "execute_result",
          "data": {
            "text/plain": [
              "{'kaggle.json': b'{\"username\":\"chrisart10\",\"key\":\"a4d7a5ccdb579a3da96cba78228ec9c6\"}'}"
            ]
          },
          "metadata": {
            "tags": []
          },
          "execution_count": 4
        }
      ]
    },
    {
      "cell_type": "code",
      "metadata": {
        "id": "rTfjLSclLNjV"
      },
      "source": [
        "! mkdir ~/.kaggle\n",
        "! cp kaggle.json ~/.kaggle/\n",
        "! chmod 600 ~/.kaggle/kaggle.json"
      ],
      "execution_count": 5,
      "outputs": []
    },
    {
      "cell_type": "markdown",
      "metadata": {
        "id": "oFpJZMqbvr1f"
      },
      "source": [
        "# kaggle dataset API"
      ]
    },
    {
      "cell_type": "markdown",
      "metadata": {
        "id": "C7Ytt3b0flXd"
      },
      "source": [
        "API fruits fresh and rotten dataset"
      ]
    },
    {
      "cell_type": "code",
      "metadata": {
        "id": "EM-O0yjpJvNc"
      },
      "source": [
        "# !kaggle datasets download -d sriramr/fruits-fresh-and-rotten-for-classification"
      ],
      "execution_count": null,
      "outputs": []
    },
    {
      "cell_type": "markdown",
      "metadata": {
        "id": "6kHS6SlDfv-3"
      },
      "source": [
        "API skin cancer mnist dataset"
      ]
    },
    {
      "cell_type": "code",
      "metadata": {
        "id": "NCx1iLrVFJAx"
      },
      "source": [
        "# !kaggle datasets download -d kmader/skin-cancer-mnist-ham10000"
      ],
      "execution_count": null,
      "outputs": []
    },
    {
      "cell_type": "markdown",
      "metadata": {
        "id": "8IoI5-w9-ire"
      },
      "source": [
        "API skin cancer mnist dataset organized"
      ]
    },
    {
      "cell_type": "code",
      "metadata": {
        "colab": {
          "base_uri": "https://localhost:8080/"
        },
        "id": "YE2Y_fHI-YET",
        "outputId": "e0c19a74-3630-4141-ba77-96e1522d5f34"
      },
      "source": [
        "#!kaggle datasets download -d nodoubttome/skin-cancer9-classesisic"
      ],
      "execution_count": null,
      "outputs": [
        {
          "output_type": "stream",
          "text": [
            "skin-cancer9-classesisic.zip: Skipping, found more recently modified local copy (use --force to force download)\n"
          ],
          "name": "stdout"
        }
      ]
    },
    {
      "cell_type": "markdown",
      "metadata": {
        "id": "ym8p9riGkBRB"
      },
      "source": [
        "aruto hand sign dataset"
      ]
    },
    {
      "cell_type": "code",
      "metadata": {
        "colab": {
          "base_uri": "https://localhost:8080/"
        },
        "id": "1HXLHRPFoqDI",
        "outputId": "39e98435-686f-401f-f88d-d9faeffa2eaf"
      },
      "source": [
        "!kaggle datasets download -d vikranthkanumuru/naruto-hand-sign-dataset"
      ],
      "execution_count": 6,
      "outputs": [
        {
          "output_type": "stream",
          "text": [
            "Downloading naruto-hand-sign-dataset.zip to /content\n",
            "100% 2.02G/2.02G [00:21<00:00, 36.0MB/s]\n",
            "100% 2.02G/2.02G [00:21<00:00, 102MB/s] \n"
          ],
          "name": "stdout"
        }
      ]
    },
    {
      "cell_type": "markdown",
      "metadata": {
        "id": "Ww7lnN5Evyn0"
      },
      "source": [
        "# Extract zip"
      ]
    },
    {
      "cell_type": "code",
      "metadata": {
        "id": "mvPCbq2vM39k"
      },
      "source": [
        "local_zip = \"/content/naruto-hand-sign-dataset.zip\"\n",
        "zip_ref = zipfile.ZipFile(local_zip, 'r')\n",
        "zip_ref.extractall('/tmp')\n",
        "zip_ref.close()\n",
        "!rm /content/naruto-hand-sign-dataset.zip\n",
        "del local_zip, zip_ref"
      ],
      "execution_count": 7,
      "outputs": []
    },
    {
      "cell_type": "markdown",
      "metadata": {
        "id": "ifGE4dy4u9aN"
      },
      "source": [
        "# Hyperparameters\n",
        "\n",
        "[Batch selection](https://www.youtube.com/watch?v=-_4Zi8fCZO4) Video\n",
        "\n",
        "\n",
        "\n",
        "```\n",
        "n = [2**5,2**6,2**7,2**8,2**9] \n",
        "batch = n[0]\n",
        "```\n",
        "\n"
      ]
    },
    {
      "cell_type": "code",
      "metadata": {
        "id": "mGVxZbNpf0wl",
        "colab": {
          "base_uri": "https://localhost:8080/"
        },
        "outputId": "8999b975-4584-4d80-ea46-9ed522be5139"
      },
      "source": [
        "height = width = 224\n",
        "channel = 3\n",
        "input_shape = tf.keras.Input((height,width,channel),name=\"Input_model\")\n",
        "input = (height,width,channel) \n",
        "batch = 2**6\n",
        "(input,batch)"
      ],
      "execution_count": 8,
      "outputs": [
        {
          "output_type": "execute_result",
          "data": {
            "text/plain": [
              "((224, 224, 3), 64)"
            ]
          },
          "metadata": {
            "tags": []
          },
          "execution_count": 8
        }
      ]
    },
    {
      "cell_type": "markdown",
      "metadata": {
        "id": "Jffg4U10v28l"
      },
      "source": [
        "# Image data proccessing\n",
        "\n"
      ]
    },
    {
      "cell_type": "markdown",
      "metadata": {
        "id": "M3c3kEA_Rbsi"
      },
      "source": [
        "## Documentation\n",
        "\n",
        "[ImageDataPreprocessing Keras Documentation](https://keras.io/api/preprocessing/image/)\n",
        "\n",
        "[ImageDataPreprocessing TF documentation](https://www.tensorflow.org/api_docs/python/tf/keras/preprocessing/image/ImageDataGenerator)\n",
        "\n",
        "[Youtube Tutorial](https://youtu.be/q7ZuZ8ZOErE)"
      ]
    },
    {
      "cell_type": "code",
      "metadata": {
        "id": "SPnLuUEuJE8x",
        "colab": {
          "base_uri": "https://localhost:8080/"
        },
        "outputId": "7836371a-fa7d-4c66-99d1-80e5fdc8a0bd"
      },
      "source": [
        "# Define our example directories and files\n",
        "base_dir = '/tmp/Pure Naruto Hand Sign Data'\n",
        "train_dir = os.path.join( base_dir, 'train')\n",
        "validation_dir = os.path.join( base_dir, 'test')\n",
        "\n",
        "# Add our data-augmentation parameters to ImageDataGenerator\n",
        "train_datagen = tf.keras.preprocessing.image.ImageDataGenerator(rescale = 1./255.,\n",
        "                                   rotation_range = 40,\n",
        "                                   width_shift_range = 0.2,\n",
        "                                   height_shift_range = 0.2,\n",
        "                                   shear_range = 0.2,\n",
        "                                   zoom_range = 0.2,\n",
        "                                   horizontal_flip = True)\n",
        "\n",
        "# Note that the validation data should not be augmented!\n",
        "valid_datagen = tf.keras.preprocessing.image.ImageDataGenerator( rescale = 1.0/255. )\n",
        "\n",
        "# Flow training images in batches of 20 using train_datagen generator\n",
        "train_generator = train_datagen.flow_from_directory(train_dir,\n",
        "                                                    # classes=[],\n",
        "                                                    color_mode=\"rgb\",\n",
        "                                                    batch_size = batch,\n",
        "                                                    shuffle=True,\n",
        "                                                    class_mode = 'categorical',\n",
        "                                                    target_size = (height, width))     \n",
        "\n",
        "# Flow validation images in batches of 20 using test_datagen generator\n",
        "validation_generator =  valid_datagen.flow_from_directory( validation_dir,\n",
        "                                                        #  classes=[\"freshapples],\n",
        "                                                         color_mode=\"rgb\",\n",
        "                                                         batch_size  = batch,\n",
        "                                                          shuffle=True,\n",
        "                                                         class_mode  = 'categorical', \n",
        "                                                         target_size =  (height, width))"
      ],
      "execution_count": 16,
      "outputs": [
        {
          "output_type": "stream",
          "text": [
            "Found 2159 images belonging to 13 classes.\n",
            "Found 86 images belonging to 13 classes.\n"
          ],
          "name": "stdout"
        }
      ]
    },
    {
      "cell_type": "code",
      "metadata": {
        "colab": {
          "base_uri": "https://localhost:8080/"
        },
        "id": "kXzPg8dDgEb9",
        "outputId": "35c8d9d5-1827-4220-f9f7-e690b39555f8"
      },
      "source": [
        "#info\n",
        "print(train_generator.class_indices)\n",
        "print(train_generator.class_mode)\n",
        "print(train_generator.image_shape)\n",
        "print(train_generator.batch_size)"
      ],
      "execution_count": 17,
      "outputs": [
        {
          "output_type": "stream",
          "text": [
            "{'bird': 0, 'boar': 1, 'dog': 2, 'dragon': 3, 'hare': 4, 'horse': 5, 'monkey': 6, 'ox': 7, 'ram': 8, 'rat': 9, 'snake': 10, 'tiger': 11, 'zero': 12}\n",
            "categorical\n",
            "(224, 224, 3)\n",
            "64\n"
          ],
          "name": "stdout"
        }
      ]
    },
    {
      "cell_type": "code",
      "metadata": {
        "colab": {
          "base_uri": "https://localhost:8080/",
          "height": 248
        },
        "id": "_MJThSJ4jMJw",
        "outputId": "986ef8b3-4e5b-4c06-c8f4-f6ec3230ef60"
      },
      "source": [
        "def plot_image(img):\n",
        "  \"\"\"\n",
        "  plot grid of images.\n",
        "  \"\"\"\n",
        "  #reads content using file path\n",
        "  img = tf.io.read_file(img)\n",
        "  #decodes file to jpeg and set up channel to a 3 dimension.\n",
        "  img = tf.image.decode_jpeg(img, channels=3)\n",
        "  #Convert image to dtype, scaling its values if needed.\n",
        "  img = tf.image.convert_image_dtype(img, tf.float32) \n",
        "  # resizes image\n",
        "  img = tf.image.resize(img, (width,height))\n",
        "  plt.imshow(img)\n",
        "  plt.axis(\"off\")\n",
        "  plt.show()\n",
        "\n",
        "plot_image(\"/tmp/Pure Naruto Hand Sign Data/test/bird/bird_IMG_0a5ad922e-4d58-11ea-b58b-0242ac1c0002.jpg\")"
      ],
      "execution_count": 15,
      "outputs": [
        {
          "output_type": "display_data",
          "data": {
            "image/png": "[encoded data removed]",
            "text/plain": [
              "<Figure size 432x288 with 1 Axes>"
            ]
          },
          "metadata": {
            "tags": [],
            "needs_background": "light"
          }
        }
      ]
    },
    {
      "cell_type": "markdown",
      "metadata": {
        "id": "vaf1E4uTvEar"
      },
      "source": [
        "# Transfer learning"
      ]
    },
    {
      "cell_type": "markdown",
      "metadata": {
        "id": "5MXlBtVhycMz"
      },
      "source": [
        "## Option1"
      ]
    },
    {
      "cell_type": "code",
      "metadata": {
        "colab": {
          "base_uri": "https://localhost:8080/",
          "height": 92
        },
        "id": "8ARAvsFq3h9r",
        "outputId": "093c53c8-1316-471c-ae31-01a4bc47379c"
      },
      "source": [
        "URL = \"https://storage.googleapis.com/mledu-datasets/inception_v3_weights_tf_dim_ordering_tf_kernels_notop.h5\"\n",
        "inception_path = tf.keras.utils.get_file(\"inception_v3_weights_tf_dim_ordering_tf_kernels_notop.h5\", \n",
        "                               origin= URL, \n",
        "                               extract=False,\n",
        "                               cache_dir = \"/content\")\n",
        "inception_path"
      ],
      "execution_count": null,
      "outputs": [
        {
          "output_type": "stream",
          "text": [
            "Downloading data from https://storage.googleapis.com/mledu-datasets/inception_v3_weights_tf_dim_ordering_tf_kernels_notop.h5\n",
            "87916544/87910968 [==============================] - 1s 0us/step\n"
          ],
          "name": "stdout"
        },
        {
          "output_type": "execute_result",
          "data": {
            "application/vnd.google.colaboratory.intrinsic+json": {
              "type": "string"
            },
            "text/plain": [
              "'/content/datasets/inception_v3_weights_tf_dim_ordering_tf_kernels_notop.h5'"
            ]
          },
          "metadata": {
            "tags": []
          },
          "execution_count": 3
        }
      ]
    },
    {
      "cell_type": "code",
      "metadata": {
        "colab": {
          "base_uri": "https://localhost:8080/",
          "height": 92
        },
        "id": "m8b1MqK1ps7s",
        "outputId": "42106525-be7d-4221-f6eb-3d68357d956b"
      },
      "source": [
        "URL =\"http://download.tensorflow.org/models/mobilenet_v1_2018_08_02/mobilenet_v1_1.0_224.tgz\"\n",
        "mobilenet_path = tf.keras.utils.get_file(\"mobilenet_v1_1.0_224.h5\", \n",
        "                               origin= URL, \n",
        "                              untar=True)\n",
        "mobilenet_path"
      ],
      "execution_count": null,
      "outputs": [
        {
          "output_type": "stream",
          "text": [
            "Downloading data from http://download.tensorflow.org/models/mobilenet_v1_2018_08_02/mobilenet_v1_1.0_224.tgz\n",
            "94322688/94321559 [==============================] - 1s 0us/step\n"
          ],
          "name": "stdout"
        },
        {
          "output_type": "execute_result",
          "data": {
            "application/vnd.google.colaboratory.intrinsic+json": {
              "type": "string"
            },
            "text/plain": [
              "'/root/.keras/datasets/mobilenet_v1_1.0_224.h5'"
            ]
          },
          "metadata": {
            "tags": []
          },
          "execution_count": 21
        }
      ]
    },
    {
      "cell_type": "code",
      "metadata": {
        "id": "cVhAHTts1UUr"
      },
      "source": [
        "def transfer_model(input,path,layer_top='mixed7'):\n",
        "  \"\"\"\n",
        "  Architecture:\n",
        "  - inception_v3. only take until mixed7\n",
        "  - Freeze top layers\n",
        "  \"\"\"\n",
        "  local_wieght_file = path\n",
        "  input = normalization(input)\n",
        "  pre_trained_model = tf.keras.applications.InceptionV3(input_tensor=input,input_shape=None,\n",
        "                                                         include_top=False,\n",
        "                                                         weights=None,\n",
        "                                                        )\n",
        "  \n",
        "  pre_trained_model.load_weights(local_wieght_file)\n",
        "  \n",
        "  for layer in pre_trained_model.layers:\n",
        "    layer = False\n",
        "  last_layer = pre_trained_model.get_layer(layer_top)\n",
        "  print('last layer output shape: ', last_layer.output_shape)\n",
        "  return  pre_trained_model.input,last_layer.output"
      ],
      "execution_count": null,
      "outputs": []
    },
    {
      "cell_type": "code",
      "metadata": {
        "id": "CgvMiM9AI8rR"
      },
      "source": [
        "def base_model(input_shape):\n",
        "  \"\"\"\n",
        "  Architecture:\n",
        "  -\n",
        "  \"\"\"\n",
        "  base_model = transfer_model()\n",
        "  # Flatten the output layer to 1 dimension\n",
        "  layer = tf.keras.layers.Flatten(name=\"Flatten_bottom\")(base_model)\n",
        "  # Add a fully connected layer with 1,024 hidden units and ReLU activation\n",
        "  layer = tf.keras.layers.Dense(2000,kernel_regularizer='l2', activation='relu')(layer)\n",
        "  # Add a dropout rate of 0.2\n",
        "  layer = tf.keras.layers.Dropout(0.5)(layer)\n",
        "  # Add a fully connected layer with 1,024 hidden units,kernel_regularization\"L2\" and ReLU activation\n",
        "  layer = tf.keras.layers.Dense(1024, kernel_regularizer='l2',activation=\"relu\")(layer)             \n",
        "  # Add a dropout rate of 0.2\n",
        "  layer = tf.keras.layers.Dropout(0.2)(layer)\n",
        "  # Add a final sigmoid layer for classification -- OUtPUT\n",
        "  output_layer = tf.keras.layers.Dense(13, activation='softmax')(layer)           \n",
        "  print(\"ouput layer shape: \", output_layer.shape)\n",
        "  model = tf.keras.Model(input_shape, output_layer,name=\"A1\") # changes model name \n",
        "  with open('modelsummary.txt', 'w') as f: \n",
        "      with redirect_stdout(f):\n",
        "          model.summary()\n",
        "      \n",
        "  tf.keras.utils.plot_model(model,show_shapes=True,show_layer_names=True,to_file=\"modelA1.png\")\n",
        "  return model"
      ],
      "execution_count": null,
      "outputs": []
    },
    {
      "cell_type": "markdown",
      "metadata": {
        "id": "SIcbkzKKyg4p"
      },
      "source": [
        "## Option2\n",
        "Tensorflow Hub\n",
        "\n",
        "[tensorflow hub image models](https://tfhub.dev/s?module-type=image-augmentation,image-classification,image-classification-logits,image-classifier,image-feature-vector,image-generator,image-object-detection,image-others,image-pose-detection,image-segmentation,image-style-transfer,image-super-resolution,image-rnn-agent&tf-version=tf2)\n",
        "\n",
        "\n",
        "[hub keras layer](https://www.tensorflow.org/hub/api_docs/python/hub/KerasLayer)"
      ]
    },
    {
      "cell_type": "code",
      "metadata": {
        "id": "GDwc0VklDFr9"
      },
      "source": [
        "def transfer_model(input):\n",
        "  \"\"\"\n",
        "  \"\"\"\n",
        "  url = \"https://tfhub.dev/google/imagenet/mobilenet_v1_100_224/classification/5\"\n",
        "  top = hub.KerasLayer(url,trainable=False,input_shape=input,name=\"mobilenet_v3_small_100_224\"\t)\n",
        "  return top"
      ],
      "execution_count": 18,
      "outputs": []
    },
    {
      "cell_type": "code",
      "metadata": {
        "id": "hJ39tUzDw60U"
      },
      "source": [
        "def base_model_sequential(input):\n",
        "  top = transfer_model(input)\n",
        "  model = tf.keras.Sequential([\n",
        "                               top,\n",
        "                               tf.keras.layers.Dense(2000,kernel_regularizer='l2', activation='relu',name=\"Dense_layer1\"),\n",
        "                               tf.keras.layers.Dropout(0.5,name=\"dropout_layer1\"),\n",
        "                               tf.keras.layers.Dense(1024, kernel_regularizer='l2',activation=\"relu\",name=\"Dense_layer2\"),\n",
        "                               tf.keras.layers.Dropout(0.2,name=\"dropout1_layer2\"),\n",
        "                               tf.keras.layers.Dense(13, activation='softmax',name=\"softmax_layer\")\n",
        "                               ])\n",
        "  # model.build([None, 224,224, 3])\n",
        "  with open('modelsummary.txt', 'w') as f: \n",
        "      with redirect_stdout(f):\n",
        "          model.summary()\n",
        "  tf.keras.utils.plot_model(model,show_shapes=True,show_layer_names=True,to_file=\"modelA1.png\")\n",
        "  return model"
      ],
      "execution_count": 19,
      "outputs": []
    },
    {
      "cell_type": "markdown",
      "metadata": {
        "id": "HIoyXfC-wE3M"
      },
      "source": [
        "# Model"
      ]
    },
    {
      "cell_type": "markdown",
      "metadata": {
        "id": "ATeNNp13EWya"
      },
      "source": [
        "Option 1"
      ]
    },
    {
      "cell_type": "code",
      "metadata": {
        "id": "8syEGLivqplg"
      },
      "source": [
        "model = base_model(input_shape)"
      ],
      "execution_count": null,
      "outputs": []
    },
    {
      "cell_type": "markdown",
      "metadata": {
        "id": "t9nC7W32EbxN"
      },
      "source": [
        "Option 2"
      ]
    },
    {
      "cell_type": "code",
      "metadata": {
        "id": "jujOfOrBxytk"
      },
      "source": [
        "model = base_model_sequential(input)"
      ],
      "execution_count": 20,
      "outputs": []
    },
    {
      "cell_type": "markdown",
      "metadata": {
        "id": "VivmHMnNTfuk"
      },
      "source": [
        "# Callbacks API \n",
        "[Callbacks Keras Documentation](https://keras.io/api/callbacks)\n",
        "\n",
        "[Callbacks TF Documentation](https://www.tensorflow.org/api_docs/python/tf/keras/callbacks)\n",
        "\n"
      ]
    },
    {
      "cell_type": "markdown",
      "metadata": {
        "id": "3tqY7vITmOGp"
      },
      "source": [
        "## Callback Checkpoint"
      ]
    },
    {
      "cell_type": "code",
      "metadata": {
        "id": "Pg2ItNPaloIK"
      },
      "source": [
        "# checkpoint_filepath = '/tmp/checkpoint'\n",
        "# model_checkpoint_callback = tf.keras.callbacks.ModelCheckpoint(\n",
        "#     filepath=checkpoint_filepath,\n",
        "#     save_weights_only=True,\n",
        "#     monitor='val_accuracy',\n",
        "#     mode='max',\n",
        "#     save_best_only=True)\n",
        "\n",
        "# # Model weights are saved at the end of every epoch, if it's the best seen\n",
        "# # so far.\n",
        "# model.fit(epochs=EPOCHS, callbacks=[model_checkpoint_callback])\n",
        "\n",
        "# #  The model weights (that are considered the best) are loaded into the model.\n",
        "# model.load_weights(checkpoint_filepath)\n"
      ],
      "execution_count": null,
      "outputs": []
    },
    {
      "cell_type": "markdown",
      "metadata": {
        "id": "8RANyov_vUJg"
      },
      "source": [
        "## Early stopping\n"
      ]
    },
    {
      "cell_type": "code",
      "metadata": {
        "id": "fbp23IcjtDN3"
      },
      "source": [
        "stop_acc = 0.94\n",
        "class myCallback(tf.keras.callbacks.Callback):\n",
        "        def on_epoch_end(self, epoch, logs={}):\n",
        "            if(logs.get('accuracy') >= stop_acc):\n",
        "                print(\"\\nReached 98% accuracy so cancelling training!\")\n",
        "                self.model.stop_training = True\n",
        "callbacks = myCallback()"
      ],
      "execution_count": 22,
      "outputs": []
    },
    {
      "cell_type": "markdown",
      "metadata": {
        "id": "pjwNcnwT7UIu"
      },
      "source": [
        "# Compile \n",
        "\n",
        "[tensorflow optimizer](https://www.tensorflow.org/api_docs/python/tf/keras/optimizers)\n",
        "\n",
        "[tensorflow losses](https://www.tensorflow.org/api_docs/python/tf/keras/losses)\n",
        "\n",
        "[tensorflow metrics](https://www.tensorflow.org/api_docs/python/tf/keras/metrics)"
      ]
    },
    {
      "cell_type": "code",
      "metadata": {
        "id": "iv5yd4Rs1ZMR"
      },
      "source": [
        "model.compile(optimizer = tf.optimizers.Adam(), \n",
        "              loss = tf.keras.losses.CategoricalCrossentropy(name='categorical_crossentropy'), \n",
        "              metrics = ['accuracy'])"
      ],
      "execution_count": 23,
      "outputs": []
    },
    {
      "cell_type": "markdown",
      "metadata": {
        "id": "p8oOC6dLwB1w"
      },
      "source": [
        "# Train model"
      ]
    },
    {
      "cell_type": "code",
      "metadata": {
        "id": "OMzReZgpJR1o",
        "colab": {
          "base_uri": "https://localhost:8080/"
        },
        "outputId": "473317d5-a9f3-492e-c9ed-810eee2b4ffa"
      },
      "source": [
        "history = model.fit(\n",
        "            train_generator,\n",
        "            validation_data = validation_generator,\n",
        "            epochs =5,\n",
        "            callbacks=[callbacks],\n",
        "            verbose = 1,\n",
        "            batch_size=batch)"
      ],
      "execution_count": 24,
      "outputs": [
        {
          "output_type": "stream",
          "text": [
            "Epoch 1/5\n",
            "34/34 [==============================] - 97s 2s/step - loss: 30.9831 - accuracy: 0.2192 - val_loss: 19.0707 - val_accuracy: 0.3023\n",
            "Epoch 2/5\n",
            "34/34 [==============================] - 65s 2s/step - loss: 16.3815 - accuracy: 0.6448 - val_loss: 14.0227 - val_accuracy: 0.2907\n",
            "Epoch 3/5\n",
            "34/34 [==============================] - 65s 2s/step - loss: 11.5615 - accuracy: 0.7462 - val_loss: 10.7793 - val_accuracy: 0.3256\n",
            "Epoch 4/5\n",
            "34/34 [==============================] - 65s 2s/step - loss: 8.6817 - accuracy: 0.7521 - val_loss: 8.9966 - val_accuracy: 0.3488\n",
            "Epoch 5/5\n",
            "34/34 [==============================] - 65s 2s/step - loss: 6.6811 - accuracy: 0.8018 - val_loss: 7.8493 - val_accuracy: 0.3488\n"
          ],
          "name": "stdout"
        }
      ]
    },
    {
      "cell_type": "markdown",
      "metadata": {
        "id": "ICU3Jl54t6gW"
      },
      "source": [
        "# Learning plot"
      ]
    },
    {
      "cell_type": "code",
      "metadata": {
        "id": "spFdwlS0g6gZ",
        "colab": {
          "base_uri": "https://localhost:8080/",
          "height": 579
        },
        "outputId": "ade43900-aaca-4268-8f45-c700f0147ac1"
      },
      "source": [
        "#-----------------------------------------------------------\n",
        "# Retrieve a list of list results on training and test data\n",
        "# sets for each training epoch\n",
        "#-----------------------------------------------------------\n",
        "acc      = history.history[     'accuracy' ]\n",
        "val_acc  = history.history[ 'val_accuracy' ]\n",
        "loss     = history.history[    'loss' ]\n",
        "val_loss = history.history['val_loss' ]\n",
        "\n",
        "epochs   = range(len(acc)) # Get number of epochs\n",
        "\n",
        "#------------------------------------------------\n",
        "# Plot training and validation accuracy per epoch\n",
        "#------------------------------------------------\n",
        "\n",
        "plt.plot(epochs, acc, 'r', label='Training accuracy')\n",
        "plt.plot(epochs, val_acc, 'b', label='Validation accuracy')\n",
        "plt.title ('Training and validation accuracy')\n",
        "plt.legend(loc=0)\n",
        "plt.figure()\n",
        "\n",
        "#------------------------------------------------\n",
        "# Plot training and validation loss per epoch\n",
        "#------------------------------------------------\n",
        "plt.plot  ( epochs,     loss, 'r', label='Training loss')\n",
        "plt.plot  ( epochs, val_loss, 'b', label='Validation loss')\n",
        "plt.title ('Training and validation loss'   )\n",
        "plt.legend(loc=0)\n",
        "plt.figure()"
      ],
      "execution_count": 25,
      "outputs": [
        {
          "output_type": "execute_result",
          "data": {
            "text/plain": [
              "<Figure size 432x288 with 0 Axes>"
            ]
          },
          "metadata": {
            "tags": []
          },
          "execution_count": 25
        },
        {
          "output_type": "display_data",
          "data": {
            "image/png": "[encoded data removed]",
            "text/plain": [
              "<Figure size 432x288 with 1 Axes>"
            ]
          },
          "metadata": {
            "tags": [],
            "needs_background": "light"
          }
        },
        {
          "output_type": "display_data",
          "data": {
            "image/png": "[encoded data removed]",
            "text/plain": [
              "<Figure size 432x288 with 1 Axes>"
            ]
          },
          "metadata": {
            "tags": [],
            "needs_background": "light"
          }
        },
        {
          "output_type": "display_data",
          "data": {
            "text/plain": [
              "<Figure size 432x288 with 0 Axes>"
            ]
          },
          "metadata": {
            "tags": []
          }
        }
      ]
    },
    {
      "cell_type": "code",
      "metadata": {
        "colab": {
          "base_uri": "https://localhost:8080/"
        },
        "id": "PLiiNgrfpwDQ",
        "outputId": "b004e537-6604-4a06-98cc-239a0b4052e2"
      },
      "source": [
        "hist = pd.DataFrame(history.history)\n",
        "hist['epoch'] = history.epoch\n",
        "print(hist.tail())\n",
        "with open('history.txt', 'w') as f: \n",
        "    with redirect_stdout(f):\n",
        "        print(hist)"
      ],
      "execution_count": 29,
      "outputs": [
        {
          "output_type": "stream",
          "text": [
            "        loss  accuracy   val_loss  val_accuracy  epoch\n",
            "0  25.469748  0.349699  19.070677      0.302326      0\n",
            "1  15.032213  0.674849  14.022693      0.290698      1\n",
            "2  10.792600  0.752663  10.779253      0.325581      2\n",
            "3   8.144828  0.772580   8.996552      0.348837      3\n",
            "4   6.308445  0.798981   7.849322      0.348837      4\n"
          ],
          "name": "stdout"
        }
      ]
    },
    {
      "cell_type": "markdown",
      "metadata": {
        "id": "7qhmxp_6t0Qm"
      },
      "source": [
        "# Prediction"
      ]
    },
    {
      "cell_type": "code",
      "metadata": {
        "id": "_UuvIjVGflDN"
      },
      "source": [
        "from keras.preprocessing import image\n",
        "uploaded = files.upload()\n",
        "\n",
        "for fn in uploaded.keys():\n",
        " \n",
        "  # predicting images\n",
        "  path = '/content/' + fn\n",
        "  img = image.load_img(path, target_size=(height, width))\n",
        "  x = image.img_to_array(img)\n",
        "  x = np.expand_dims(x, axis=0)\n",
        "  images = np.vstack([x])\n",
        "  prediction = model.predict(images)\n",
        "  print(prediction)\n",
        "  prediction = np.argmax(prediction, axis=1)\n",
        "  clasess  = train_generator.class_indices\n",
        "  classes = list(clasess.keys())\n",
        "  print(clasess)\n",
        "  print(\"Answer : \",classes[int(prediction)])"
      ],
      "execution_count": null,
      "outputs": []
    },
    {
      "cell_type": "code",
      "metadata": {
        "colab": {
          "base_uri": "https://localhost:8080/"
        },
        "id": "NAgi5T7C05p2",
        "outputId": "a3133131-235e-4607-cce6-bdd52a20244c"
      },
      "source": [
        "h = train_generator.class_indices\n",
        "key = h.keys()\n",
        "print(list(key)[1-1])\n",
        "del h,key"
      ],
      "execution_count": null,
      "outputs": [
        {
          "output_type": "stream",
          "text": [
            "bird\n"
          ],
          "name": "stdout"
        }
      ]
    },
    {
      "cell_type": "markdown",
      "metadata": {
        "id": "9QybBeYIn_7T"
      },
      "source": [
        "# Tensorboard\n",
        "comming soon"
      ]
    },
    {
      "cell_type": "markdown",
      "metadata": {
        "id": "PzxsGlfctldF"
      },
      "source": [
        "# Save model option 1"
      ]
    },
    {
      "cell_type": "code",
      "metadata": {
        "id": "n4egQ5OTwx9F",
        "colab": {
          "base_uri": "https://localhost:8080/"
        },
        "outputId": "79cc5b53-e035-4376-fbc6-93a924c163a6"
      },
      "source": [
        "# import time\n",
        "# path = '/tmp/simple_keras_model'\n",
        "# model.save(path)"
      ],
      "execution_count": null,
      "outputs": [
        {
          "output_type": "stream",
          "text": [
            "INFO:tensorflow:Assets written to: /tmp/simple_keras_model/assets\n"
          ],
          "name": "stdout"
        }
      ]
    },
    {
      "cell_type": "code",
      "metadata": {
        "id": "IX0IKXTitiin"
      },
      "source": [
        "# new_model = tf.keras.models.load_model('/tmp/saved_models/1612553978/')\n",
        "# Check its architecture\n",
        "#new_model.summary()"
      ],
      "execution_count": null,
      "outputs": []
    },
    {
      "cell_type": "markdown",
      "metadata": {
        "id": "PEXYEKbOtr5A"
      },
      "source": [
        "# Save model option 1"
      ]
    },
    {
      "cell_type": "code",
      "metadata": {
        "id": "nyqUerVSr3pq"
      },
      "source": [
        "# Save the entire model to a HDF5 file.\n",
        "# The '.h5' extension indicates that the model should be saved to HDF5.\n",
        "model.save('/tmp/saved_models/versions/my_model1.h5')"
      ],
      "execution_count": null,
      "outputs": []
    },
    {
      "cell_type": "code",
      "metadata": {
        "id": "fG6Z2uxRwq-J"
      },
      "source": [
        "# Recreate the exact same model, including its weights and the optimizer\n",
        "new_model = tf.keras.models.load_model('/tmp/saved_models/versions/my_model1.h5')\n",
        "# Show the model architecture\n",
        "new_model.summary()"
      ],
      "execution_count": null,
      "outputs": []
    },
    {
      "cell_type": "markdown",
      "metadata": {
        "id": "eUmPCZH79kRM"
      },
      "source": [
        "# Convert .h5 to tfjs format "
      ]
    },
    {
      "cell_type": "code",
      "metadata": {
        "id": "2H4orWU8_UXl"
      },
      "source": [
        "!pip install tensorflowjs"
      ],
      "execution_count": null,
      "outputs": []
    },
    {
      "cell_type": "code",
      "metadata": {
        "id": "OKpEEJ6J9jiI"
      },
      "source": [
        "!tensorflowjs_converter --input_format=keras /content/mask_model.h5 /content/tfjs_model"
      ],
      "execution_count": null,
      "outputs": []
    },
    {
      "cell_type": "markdown",
      "metadata": {
        "id": "O3h3BKkEF0RB"
      },
      "source": [
        "Combine into one file"
      ]
    },
    {
      "cell_type": "code",
      "metadata": {
        "colab": {
          "base_uri": "https://localhost:8080/"
        },
        "id": "h_4nCEYV_Zgx",
        "outputId": "8da390db-a2d8-4851-dc69-438f5d515a98"
      },
      "source": [
        "!ls tfjs_model/\n",
        "!cat tfjs_model/group1-shard1of3.bin  tfjs_model/group1-shard2of3.bin  tfjs_model/group1-shard3of3.bin > tfjs_model/group1-shard.bin"
      ],
      "execution_count": null,
      "outputs": [
        {
          "output_type": "stream",
          "text": [
            "group1-shard1of3.bin  group1-shard3of3.bin  model.json\n",
            "group1-shard2of3.bin  group1-shard.bion\n"
          ],
          "name": "stdout"
        }
      ]
    },
    {
      "cell_type": "markdown",
      "metadata": {
        "id": "ESi8SgbG_3kV"
      },
      "source": [
        "Alternative: Use the Python API to export directly to TF.js Layers format\n",
        "If you have a Keras model in Python, you can export it directly to the TensorFlow.js Layers format as follows:\n",
        "\n"
      ]
    },
    {
      "cell_type": "code",
      "metadata": {
        "id": "_rxXJmFt_3FP"
      },
      "source": [
        "import tensorflowjs as tfjs\n",
        "tfjs.converters.save_keras_model(model, tfjs_target_dir)"
      ],
      "execution_count": null,
      "outputs": []
    },
    {
      "cell_type": "markdown",
      "metadata": {
        "id": "SlUJJt34AKaL"
      },
      "source": [
        "**Load the model into TensorFlow.js**\n",
        "\n",
        "Use a web server to serve the converted model files you generated in Step 1. Note that you may need to configure your server to allow Cross-Origin Resource Sharing (CORS), in order to allow fetching the files in JavaScript.\n",
        "\n",
        "Then load the model into TensorFlow.js by providing the URL to the model.json file:\n",
        "\n"
      ]
    },
    {
      "cell_type": "code",
      "metadata": {
        "id": "J3byD06zAN2V"
      },
      "source": [
        "#JavaScript\n",
        "\"\"\"\n",
        "import * as tf from '@tensorflow/tfjs';\n",
        "\n",
        "const model = await tf.loadLayersModel('https://foo.bar/tfjs_artifacts/model.json');\n",
        "\"\"\""
      ],
      "execution_count": null,
      "outputs": []
    },
    {
      "cell_type": "markdown",
      "metadata": {
        "id": "ypKMz-y0Da0a"
      },
      "source": [
        "# Github command\n",
        "\n",
        "\n",
        "\n",
        "```\n",
        "#Example: Contribute to an existing repository\n",
        "# download a repository on GitHub.com to our machine\n",
        "git clone https://github.com/me/repo.git\n",
        "\n",
        "# change into the `repo` directory\n",
        "cd repo\n",
        "\n",
        "# create a new branch to store any new changes\n",
        "git branch my-branch\n",
        "\n",
        "# switch to that branch (line of development)\n",
        "git checkout my-branch\n",
        "\n",
        "# make changes, for example, edit `file1.md` and `file2.md` using the text editor\n",
        "\n",
        "# stage the changed files\n",
        "git add file1.md file2.md\n",
        "\n",
        "# take a snapshot of the staging area (anything that's been added)\n",
        "git commit -m \"my snapshot\"\n",
        "\n",
        "# push changes to github\n",
        "git push --set-upstream origin my-branch\n",
        "```\n",
        "\n"
      ]
    },
    {
      "cell_type": "markdown",
      "metadata": {
        "id": "bDwT4nEyk8Ni"
      },
      "source": [
        "# Linux command\n",
        "\n",
        "```\n",
        "File Commands\n",
        "List files in the directory:\n",
        "!ls\n",
        "\n",
        "#List all files (shows hidden files):\n",
        "!ls -a\n",
        "\n",
        "#show directory you are currently working in:\n",
        "!pwd\n",
        "\n",
        "#Create a new directory:\n",
        "!mkdir [directory]\n",
        "\n",
        "#Remove a file:\n",
        "!rm [file_name] \n",
        "\n",
        "#Remove a directory recursively:\n",
        "!rm -r [directory_name]\n",
        "\n",
        "#Recursively remove a directory without requiring confirmation:\n",
        "!rm -rf [directory_name]\n",
        "\n",
        "#Copy the contents of one file to another file:\n",
        "!cp [file_name1] [file_name2]\n",
        "\n",
        "#Recursively copy the contents of one file to a second file:\n",
        "!cp -r [directory_name1] [directory_name2]\n",
        "\n",
        "#Rename [file_name1] to [file_name2] with the command:\n",
        "!mv [file_name1] [file_name2]\n",
        "\n",
        "#Create a symbolic link to a file:\n",
        "!ln -s /path/to/[file_name] [link_name]\n",
        "\n",
        "#Create a new file:\n",
        "!touch [file_name]\n",
        "\n",
        "#Show the contents of a file:\n",
        "!more [file_name]\n",
        "\n",
        "#or use the cat command:\n",
        "!cat [file_name]\n",
        "\n",
        "#Append file contents to another file:\n",
        "!cat [file_name1] >> [file_name2]\n",
        "\n",
        "#Display the first 10 lines of a file with:\n",
        "!head [file_name]\n",
        "\n",
        "#Show the last 10 lines of a file:\n",
        "!tail [file_name]\n",
        "```\n",
        "[more command](https://phoenixnap.com/kb/linux-commands-cheat-sheet)\n"
      ]
    }
  ]
}